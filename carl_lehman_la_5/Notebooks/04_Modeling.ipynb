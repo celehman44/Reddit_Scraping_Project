{
 "cells": [
  {
   "cell_type": "markdown",
   "metadata": {},
   "source": [
    "In this notebook I will try out 3 different classification models (logisitic regression, k-nearest neighbors, and a random forest) on several different types of tokenized matrices (tfidf tokenized and svd) in the attempt to create model that can accurately classify which subreddit a post came frome. If I can achieve this, then this will imply that different discussion are occuring on the Democrat and Republican subreddits."
   ]
  },
  {
   "cell_type": "code",
   "execution_count": 71,
   "metadata": {},
   "outputs": [],
   "source": [
    "import requests\n",
    "import json\n",
    "import pandas as pd\n",
    "import numpy as np\n",
    "import time\n",
    "from sklearn.model_selection import train_test_split\n",
    "from sklearn.linear_model import LogisticRegression\n",
    "from sklearn.naive_bayes import MultinomialNB, GaussianNB, BernoulliNB\n",
    "from sklearn.decomposition import TruncatedSVD\n",
    "from sklearn.grid_search import GridSearchCV\n",
    "from sklearn.neighbors import KNeighborsClassifier\n",
    "from sklearn.pipeline import Pipeline\n",
    "from sklearn.grid_search import GridSearchCV\n",
    "from sklearn.feature_selection import SelectKBest, VarianceThreshold, f_regression\n",
    "from sklearn.ensemble import RandomForestClassifier\n",
    "from nltk.sentiment.vader import SentimentIntensityAnalyzer\n",
    "import pickle\n"
   ]
  },
  {
   "cell_type": "markdown",
   "metadata": {},
   "source": [
    "# Reading in my data and filling null values"
   ]
  },
  {
   "cell_type": "code",
   "execution_count": 72,
   "metadata": {},
   "outputs": [],
   "source": [
    "reddit = pd.read_csv('../Data/reddit.csv')\n",
    "X_train = pd.read_csv('../Data/X_train.csv', header = None)\n",
    "X_test = pd.read_csv('../Data/X_test.csv', header = None)\n",
    "y_train = pd.read_csv('../Data/y_train.csv', header = None)\n",
    "y_test = pd.read_csv('../Data/y_test.csv', header = None)\n",
    "reddit.drop(columns = 'Unnamed: 0', axis = 1, inplace=True)\n",
    "reddit.fillna('', inplace=True)"
   ]
  },
  {
   "cell_type": "markdown",
   "metadata": {},
   "source": [
    "# Using TFIDF to create features for my term matrix\n"
   ]
  },
  {
   "cell_type": "code",
   "execution_count": 73,
   "metadata": {},
   "outputs": [],
   "source": [
    "from sklearn.feature_extraction.text import TfidfVectorizer\n",
    "from sklearn.feature_extraction import stop_words\n",
    "custom_stopwords = list(stop_words.ENGLISH_STOP_WORDS)\n",
    "custom_stopwords.extend(['10','000','https', 'com'])\n",
    "\n",
    "tfidf = TfidfVectorizer(stop_words=custom_stopwords, min_df=5, max_df=1.0)\n",
    "term_mat = tfidf.fit_transform(reddit['text_title'])"
   ]
  },
  {
   "cell_type": "markdown",
   "metadata": {},
   "source": [
    "### Creating a sparse data frame from my term matrix"
   ]
  },
  {
   "cell_type": "code",
   "execution_count": 74,
   "metadata": {
    "scrolled": true
   },
   "outputs": [
    {
     "data": {
      "text/html": [
       "<div>\n",
       "<style scoped>\n",
       "    .dataframe tbody tr th:only-of-type {\n",
       "        vertical-align: middle;\n",
       "    }\n",
       "\n",
       "    .dataframe tbody tr th {\n",
       "        vertical-align: top;\n",
       "    }\n",
       "\n",
       "    .dataframe thead th {\n",
       "        text-align: right;\n",
       "    }\n",
       "</style>\n",
       "<table border=\"1\" class=\"dataframe\">\n",
       "  <thead>\n",
       "    <tr style=\"text-align: right;\">\n",
       "      <th></th>\n",
       "      <th>12</th>\n",
       "      <th>13</th>\n",
       "      <th>15</th>\n",
       "      <th>18</th>\n",
       "      <th>200</th>\n",
       "      <th>2014</th>\n",
       "      <th>2016</th>\n",
       "      <th>2017</th>\n",
       "      <th>2018</th>\n",
       "      <th>2020</th>\n",
       "      <th>...</th>\n",
       "      <th>working</th>\n",
       "      <th>world</th>\n",
       "      <th>wrong</th>\n",
       "      <th>www</th>\n",
       "      <th>year</th>\n",
       "      <th>years</th>\n",
       "      <th>york</th>\n",
       "      <th>young</th>\n",
       "      <th>youtu</th>\n",
       "      <th>youtube</th>\n",
       "    </tr>\n",
       "  </thead>\n",
       "  <tbody>\n",
       "    <tr>\n",
       "      <th>0</th>\n",
       "      <td>0.0</td>\n",
       "      <td>0.0</td>\n",
       "      <td>0.0</td>\n",
       "      <td>0.0</td>\n",
       "      <td>0.0</td>\n",
       "      <td>0.0</td>\n",
       "      <td>0.0</td>\n",
       "      <td>0.0</td>\n",
       "      <td>0.0</td>\n",
       "      <td>0.0</td>\n",
       "      <td>...</td>\n",
       "      <td>0.0</td>\n",
       "      <td>0.0</td>\n",
       "      <td>0.0</td>\n",
       "      <td>0.0</td>\n",
       "      <td>0.0</td>\n",
       "      <td>0.0</td>\n",
       "      <td>0.0</td>\n",
       "      <td>0.0</td>\n",
       "      <td>0.0</td>\n",
       "      <td>0.0</td>\n",
       "    </tr>\n",
       "    <tr>\n",
       "      <th>1</th>\n",
       "      <td>0.0</td>\n",
       "      <td>0.0</td>\n",
       "      <td>0.0</td>\n",
       "      <td>0.0</td>\n",
       "      <td>0.0</td>\n",
       "      <td>0.0</td>\n",
       "      <td>0.0</td>\n",
       "      <td>0.0</td>\n",
       "      <td>0.0</td>\n",
       "      <td>0.0</td>\n",
       "      <td>...</td>\n",
       "      <td>0.0</td>\n",
       "      <td>0.0</td>\n",
       "      <td>0.0</td>\n",
       "      <td>0.0</td>\n",
       "      <td>0.0</td>\n",
       "      <td>0.0</td>\n",
       "      <td>0.0</td>\n",
       "      <td>0.0</td>\n",
       "      <td>0.0</td>\n",
       "      <td>0.0</td>\n",
       "    </tr>\n",
       "    <tr>\n",
       "      <th>2</th>\n",
       "      <td>0.0</td>\n",
       "      <td>0.0</td>\n",
       "      <td>0.0</td>\n",
       "      <td>0.0</td>\n",
       "      <td>0.0</td>\n",
       "      <td>0.0</td>\n",
       "      <td>0.0</td>\n",
       "      <td>0.0</td>\n",
       "      <td>0.0</td>\n",
       "      <td>0.0</td>\n",
       "      <td>...</td>\n",
       "      <td>0.0</td>\n",
       "      <td>0.0</td>\n",
       "      <td>0.0</td>\n",
       "      <td>0.0</td>\n",
       "      <td>0.0</td>\n",
       "      <td>0.0</td>\n",
       "      <td>0.0</td>\n",
       "      <td>0.0</td>\n",
       "      <td>0.0</td>\n",
       "      <td>0.0</td>\n",
       "    </tr>\n",
       "    <tr>\n",
       "      <th>3</th>\n",
       "      <td>0.0</td>\n",
       "      <td>0.0</td>\n",
       "      <td>0.0</td>\n",
       "      <td>0.0</td>\n",
       "      <td>0.0</td>\n",
       "      <td>0.0</td>\n",
       "      <td>0.0</td>\n",
       "      <td>0.0</td>\n",
       "      <td>0.0</td>\n",
       "      <td>0.0</td>\n",
       "      <td>...</td>\n",
       "      <td>0.0</td>\n",
       "      <td>0.0</td>\n",
       "      <td>0.0</td>\n",
       "      <td>0.0</td>\n",
       "      <td>0.0</td>\n",
       "      <td>0.0</td>\n",
       "      <td>0.0</td>\n",
       "      <td>0.0</td>\n",
       "      <td>0.0</td>\n",
       "      <td>0.0</td>\n",
       "    </tr>\n",
       "    <tr>\n",
       "      <th>4</th>\n",
       "      <td>0.0</td>\n",
       "      <td>0.0</td>\n",
       "      <td>0.0</td>\n",
       "      <td>0.0</td>\n",
       "      <td>0.0</td>\n",
       "      <td>0.0</td>\n",
       "      <td>0.0</td>\n",
       "      <td>0.0</td>\n",
       "      <td>0.0</td>\n",
       "      <td>0.0</td>\n",
       "      <td>...</td>\n",
       "      <td>0.0</td>\n",
       "      <td>0.0</td>\n",
       "      <td>0.0</td>\n",
       "      <td>0.0</td>\n",
       "      <td>0.0</td>\n",
       "      <td>0.0</td>\n",
       "      <td>0.0</td>\n",
       "      <td>0.0</td>\n",
       "      <td>0.0</td>\n",
       "      <td>0.0</td>\n",
       "    </tr>\n",
       "  </tbody>\n",
       "</table>\n",
       "<p>5 rows × 710 columns</p>\n",
       "</div>"
      ],
      "text/plain": [
       "    12   13   15   18  200  2014  2016  2017  2018  2020   ...     working  \\\n",
       "0  0.0  0.0  0.0  0.0  0.0   0.0   0.0   0.0   0.0   0.0   ...         0.0   \n",
       "1  0.0  0.0  0.0  0.0  0.0   0.0   0.0   0.0   0.0   0.0   ...         0.0   \n",
       "2  0.0  0.0  0.0  0.0  0.0   0.0   0.0   0.0   0.0   0.0   ...         0.0   \n",
       "3  0.0  0.0  0.0  0.0  0.0   0.0   0.0   0.0   0.0   0.0   ...         0.0   \n",
       "4  0.0  0.0  0.0  0.0  0.0   0.0   0.0   0.0   0.0   0.0   ...         0.0   \n",
       "\n",
       "   world  wrong  www  year  years  york  young  youtu  youtube  \n",
       "0    0.0    0.0  0.0   0.0    0.0   0.0    0.0    0.0      0.0  \n",
       "1    0.0    0.0  0.0   0.0    0.0   0.0    0.0    0.0      0.0  \n",
       "2    0.0    0.0  0.0   0.0    0.0   0.0    0.0    0.0      0.0  \n",
       "3    0.0    0.0  0.0   0.0    0.0   0.0    0.0    0.0      0.0  \n",
       "4    0.0    0.0  0.0   0.0    0.0   0.0    0.0    0.0      0.0  \n",
       "\n",
       "[5 rows x 710 columns]"
      ]
     },
     "execution_count": 74,
     "metadata": {},
     "output_type": "execute_result"
    }
   ],
   "source": [
    "term_df = pd.SparseDataFrame(term_mat, columns=tfidf.get_feature_names())\n",
    "term_df.fillna(0, inplace=True)\n",
    "term_df.head()"
   ]
  },
  {
   "cell_type": "markdown",
   "metadata": {},
   "source": [
    "This TFIDF matrix will be used later on to create an SVD matrix"
   ]
  },
  {
   "cell_type": "markdown",
   "metadata": {},
   "source": [
    "# Logistic Regression"
   ]
  },
  {
   "cell_type": "markdown",
   "metadata": {},
   "source": [
    "### Creating a pipeline and running a gridsearch to fine tune my model's hyperparameters"
   ]
  },
  {
   "cell_type": "code",
   "execution_count": 75,
   "metadata": {},
   "outputs": [],
   "source": [
    "pipe = Pipeline([\n",
    "    ('tfidf', TfidfVectorizer(stop_words=custom_stopwords)),\n",
    "    ('logreg', LogisticRegression())\n",
    "])"
   ]
  },
  {
   "cell_type": "code",
   "execution_count": 76,
   "metadata": {},
   "outputs": [],
   "source": [
    "params = {\n",
    "    'tfidf__min_df': [1,3,5,7,10],\n",
    "    'tfidf__max_df': [.85,.9,.95,1.0],\n",
    "    'tfidf__norm': ['l1','l2'],\n",
    "    'logreg__C': [1,2,4,8,(1/10),(1/5)],\n",
    "    'logreg__penalty': ['l1', 'l2']\n",
    "}"
   ]
  },
  {
   "cell_type": "code",
   "execution_count": 77,
   "metadata": {},
   "outputs": [],
   "source": [
    "gs = GridSearchCV(pipe, params)"
   ]
  },
  {
   "cell_type": "code",
   "execution_count": 78,
   "metadata": {
    "scrolled": true
   },
   "outputs": [
    {
     "data": {
      "text/plain": [
       "GridSearchCV(cv=None, error_score='raise',\n",
       "       estimator=Pipeline(memory=None,\n",
       "     steps=[('tfidf', TfidfVectorizer(analyzer='word', binary=False, decode_error='strict',\n",
       "        dtype=<class 'numpy.int64'>, encoding='utf-8', input='content',\n",
       "        lowercase=True, max_df=1.0, max_features=None, min_df=1,\n",
       "        ngram_range=(1, 1), norm='l2', preprocessor=None, smooth_idf=True,\n",
       " ...ty='l2', random_state=None, solver='liblinear', tol=0.0001,\n",
       "          verbose=0, warm_start=False))]),\n",
       "       fit_params={}, iid=True, n_jobs=1,\n",
       "       param_grid={'tfidf__min_df': [1, 3, 5, 7, 10], 'tfidf__max_df': [0.85, 0.9, 0.95, 1.0], 'tfidf__norm': ['l1', 'l2'], 'logreg__C': [1, 2, 4, 8, 0.1, 0.2], 'logreg__penalty': ['l1', 'l2']},\n",
       "       pre_dispatch='2*n_jobs', refit=True, scoring=None, verbose=0)"
      ]
     },
     "execution_count": 78,
     "metadata": {},
     "output_type": "execute_result"
    }
   ],
   "source": [
    "gs.fit(X_train[1], y_train[1])"
   ]
  },
  {
   "cell_type": "markdown",
   "metadata": {},
   "source": [
    "### Scoring my model"
   ]
  },
  {
   "cell_type": "code",
   "execution_count": 79,
   "metadata": {},
   "outputs": [
    {
     "data": {
      "text/plain": [
       "0.7183098591549296"
      ]
     },
     "execution_count": 79,
     "metadata": {},
     "output_type": "execute_result"
    }
   ],
   "source": [
    "gs.score(X_train[1],y_train[1])"
   ]
  },
  {
   "cell_type": "code",
   "execution_count": 80,
   "metadata": {},
   "outputs": [
    {
     "data": {
      "text/plain": [
       "0.6591549295774648"
      ]
     },
     "execution_count": 80,
     "metadata": {},
     "output_type": "execute_result"
    }
   ],
   "source": [
    "gs.score(X_test[1],y_test[1])"
   ]
  },
  {
   "cell_type": "markdown",
   "metadata": {},
   "source": [
    "### Looking at my best parameters from my grid search"
   ]
  },
  {
   "cell_type": "code",
   "execution_count": 81,
   "metadata": {},
   "outputs": [
    {
     "data": {
      "text/plain": [
       "{'logreg__C': 1,\n",
       " 'logreg__penalty': 'l1',\n",
       " 'tfidf__max_df': 0.85,\n",
       " 'tfidf__min_df': 5,\n",
       " 'tfidf__norm': 'l2'}"
      ]
     },
     "execution_count": 81,
     "metadata": {},
     "output_type": "execute_result"
    }
   ],
   "source": [
    "gs.best_params_"
   ]
  },
  {
   "cell_type": "markdown",
   "metadata": {},
   "source": [
    "# K Nearest Neighbors on an SVD data frame"
   ]
  },
  {
   "cell_type": "markdown",
   "metadata": {},
   "source": [
    "### Creating a SVD data frame"
   ]
  },
  {
   "cell_type": "markdown",
   "metadata": {},
   "source": [
    "Creating an SVD data frame will reduce the number of features we have and potentially help us with the problem of overfitting"
   ]
  },
  {
   "cell_type": "code",
   "execution_count": 82,
   "metadata": {},
   "outputs": [
    {
     "data": {
      "text/plain": [
       "(1420, 100)"
      ]
     },
     "execution_count": 82,
     "metadata": {},
     "output_type": "execute_result"
    }
   ],
   "source": [
    "SVD = TruncatedSVD(n_components=100)\n",
    "svd_matrix = SVD.fit_transform(term_df)\n",
    "svd_matrix.shape"
   ]
  },
  {
   "cell_type": "code",
   "execution_count": 83,
   "metadata": {},
   "outputs": [
    {
     "data": {
      "text/html": [
       "<div>\n",
       "<style scoped>\n",
       "    .dataframe tbody tr th:only-of-type {\n",
       "        vertical-align: middle;\n",
       "    }\n",
       "\n",
       "    .dataframe tbody tr th {\n",
       "        vertical-align: top;\n",
       "    }\n",
       "\n",
       "    .dataframe thead th {\n",
       "        text-align: right;\n",
       "    }\n",
       "</style>\n",
       "<table border=\"1\" class=\"dataframe\">\n",
       "  <thead>\n",
       "    <tr style=\"text-align: right;\">\n",
       "      <th></th>\n",
       "      <th>component_1</th>\n",
       "      <th>component_2</th>\n",
       "      <th>component_3</th>\n",
       "      <th>component_4</th>\n",
       "      <th>component_5</th>\n",
       "      <th>component_6</th>\n",
       "      <th>component_7</th>\n",
       "      <th>component_8</th>\n",
       "      <th>component_9</th>\n",
       "      <th>component_10</th>\n",
       "      <th>...</th>\n",
       "      <th>component_91</th>\n",
       "      <th>component_92</th>\n",
       "      <th>component_93</th>\n",
       "      <th>component_94</th>\n",
       "      <th>component_95</th>\n",
       "      <th>component_96</th>\n",
       "      <th>component_97</th>\n",
       "      <th>component_98</th>\n",
       "      <th>component_99</th>\n",
       "      <th>component_100</th>\n",
       "    </tr>\n",
       "  </thead>\n",
       "  <tbody>\n",
       "    <tr>\n",
       "      <th>0</th>\n",
       "      <td>0.043018</td>\n",
       "      <td>0.033061</td>\n",
       "      <td>-0.036783</td>\n",
       "      <td>0.012960</td>\n",
       "      <td>0.000091</td>\n",
       "      <td>-0.083168</td>\n",
       "      <td>-0.049686</td>\n",
       "      <td>-0.133940</td>\n",
       "      <td>0.073176</td>\n",
       "      <td>-0.126207</td>\n",
       "      <td>...</td>\n",
       "      <td>-0.020350</td>\n",
       "      <td>-0.002591</td>\n",
       "      <td>-0.009475</td>\n",
       "      <td>0.037951</td>\n",
       "      <td>-0.006155</td>\n",
       "      <td>-0.026287</td>\n",
       "      <td>-0.005525</td>\n",
       "      <td>0.037521</td>\n",
       "      <td>0.040710</td>\n",
       "      <td>0.011197</td>\n",
       "    </tr>\n",
       "    <tr>\n",
       "      <th>1</th>\n",
       "      <td>0.054018</td>\n",
       "      <td>0.063484</td>\n",
       "      <td>-0.058336</td>\n",
       "      <td>0.018481</td>\n",
       "      <td>-0.050631</td>\n",
       "      <td>-0.188665</td>\n",
       "      <td>-0.039902</td>\n",
       "      <td>-0.216124</td>\n",
       "      <td>0.254025</td>\n",
       "      <td>0.022839</td>\n",
       "      <td>...</td>\n",
       "      <td>-0.033701</td>\n",
       "      <td>-0.080035</td>\n",
       "      <td>0.006454</td>\n",
       "      <td>0.024757</td>\n",
       "      <td>-0.019388</td>\n",
       "      <td>-0.020120</td>\n",
       "      <td>0.075663</td>\n",
       "      <td>-0.058197</td>\n",
       "      <td>-0.014386</td>\n",
       "      <td>-0.032351</td>\n",
       "    </tr>\n",
       "    <tr>\n",
       "      <th>2</th>\n",
       "      <td>0.037082</td>\n",
       "      <td>0.026774</td>\n",
       "      <td>-0.042797</td>\n",
       "      <td>0.002255</td>\n",
       "      <td>0.025214</td>\n",
       "      <td>-0.038031</td>\n",
       "      <td>-0.003047</td>\n",
       "      <td>-0.031455</td>\n",
       "      <td>0.023449</td>\n",
       "      <td>0.030475</td>\n",
       "      <td>...</td>\n",
       "      <td>0.039686</td>\n",
       "      <td>-0.008353</td>\n",
       "      <td>-0.022161</td>\n",
       "      <td>-0.074135</td>\n",
       "      <td>-0.012417</td>\n",
       "      <td>0.056872</td>\n",
       "      <td>0.052923</td>\n",
       "      <td>-0.051099</td>\n",
       "      <td>0.042788</td>\n",
       "      <td>-0.078246</td>\n",
       "    </tr>\n",
       "    <tr>\n",
       "      <th>3</th>\n",
       "      <td>0.033363</td>\n",
       "      <td>0.021766</td>\n",
       "      <td>-0.024550</td>\n",
       "      <td>-0.005295</td>\n",
       "      <td>-0.022273</td>\n",
       "      <td>-0.038249</td>\n",
       "      <td>-0.027995</td>\n",
       "      <td>-0.015521</td>\n",
       "      <td>-0.051013</td>\n",
       "      <td>0.079409</td>\n",
       "      <td>...</td>\n",
       "      <td>-0.027051</td>\n",
       "      <td>0.024252</td>\n",
       "      <td>0.116847</td>\n",
       "      <td>-0.047493</td>\n",
       "      <td>-0.093877</td>\n",
       "      <td>0.036150</td>\n",
       "      <td>-0.034690</td>\n",
       "      <td>-0.032609</td>\n",
       "      <td>-0.015141</td>\n",
       "      <td>0.044326</td>\n",
       "    </tr>\n",
       "    <tr>\n",
       "      <th>4</th>\n",
       "      <td>0.206326</td>\n",
       "      <td>-0.064116</td>\n",
       "      <td>0.025296</td>\n",
       "      <td>0.033071</td>\n",
       "      <td>-0.037846</td>\n",
       "      <td>0.008990</td>\n",
       "      <td>-0.020488</td>\n",
       "      <td>-0.024805</td>\n",
       "      <td>-0.012017</td>\n",
       "      <td>-0.027768</td>\n",
       "      <td>...</td>\n",
       "      <td>-0.048827</td>\n",
       "      <td>0.079648</td>\n",
       "      <td>-0.083823</td>\n",
       "      <td>-0.064862</td>\n",
       "      <td>0.004644</td>\n",
       "      <td>-0.062738</td>\n",
       "      <td>-0.090752</td>\n",
       "      <td>0.078274</td>\n",
       "      <td>0.012607</td>\n",
       "      <td>-0.067073</td>\n",
       "    </tr>\n",
       "  </tbody>\n",
       "</table>\n",
       "<p>5 rows × 100 columns</p>\n",
       "</div>"
      ],
      "text/plain": [
       "   component_1  component_2  component_3  component_4  component_5  \\\n",
       "0     0.043018     0.033061    -0.036783     0.012960     0.000091   \n",
       "1     0.054018     0.063484    -0.058336     0.018481    -0.050631   \n",
       "2     0.037082     0.026774    -0.042797     0.002255     0.025214   \n",
       "3     0.033363     0.021766    -0.024550    -0.005295    -0.022273   \n",
       "4     0.206326    -0.064116     0.025296     0.033071    -0.037846   \n",
       "\n",
       "   component_6  component_7  component_8  component_9  component_10  \\\n",
       "0    -0.083168    -0.049686    -0.133940     0.073176     -0.126207   \n",
       "1    -0.188665    -0.039902    -0.216124     0.254025      0.022839   \n",
       "2    -0.038031    -0.003047    -0.031455     0.023449      0.030475   \n",
       "3    -0.038249    -0.027995    -0.015521    -0.051013      0.079409   \n",
       "4     0.008990    -0.020488    -0.024805    -0.012017     -0.027768   \n",
       "\n",
       "       ...        component_91  component_92  component_93  component_94  \\\n",
       "0      ...           -0.020350     -0.002591     -0.009475      0.037951   \n",
       "1      ...           -0.033701     -0.080035      0.006454      0.024757   \n",
       "2      ...            0.039686     -0.008353     -0.022161     -0.074135   \n",
       "3      ...           -0.027051      0.024252      0.116847     -0.047493   \n",
       "4      ...           -0.048827      0.079648     -0.083823     -0.064862   \n",
       "\n",
       "   component_95  component_96  component_97  component_98  component_99  \\\n",
       "0     -0.006155     -0.026287     -0.005525      0.037521      0.040710   \n",
       "1     -0.019388     -0.020120      0.075663     -0.058197     -0.014386   \n",
       "2     -0.012417      0.056872      0.052923     -0.051099      0.042788   \n",
       "3     -0.093877      0.036150     -0.034690     -0.032609     -0.015141   \n",
       "4      0.004644     -0.062738     -0.090752      0.078274      0.012607   \n",
       "\n",
       "   component_100  \n",
       "0       0.011197  \n",
       "1      -0.032351  \n",
       "2      -0.078246  \n",
       "3       0.044326  \n",
       "4      -0.067073  \n",
       "\n",
       "[5 rows x 100 columns]"
      ]
     },
     "execution_count": 83,
     "metadata": {},
     "output_type": "execute_result"
    }
   ],
   "source": [
    "component_names = [\"component_\"+str(i+1) for i in range(100)]\n",
    "svd_df = pd.DataFrame(svd_matrix,\n",
    "                      columns=component_names)\n",
    "svd_df.head()"
   ]
  },
  {
   "cell_type": "markdown",
   "metadata": {},
   "source": [
    "### Creating a loadings dataframe"
   ]
  },
  {
   "cell_type": "code",
   "execution_count": 84,
   "metadata": {
    "scrolled": true
   },
   "outputs": [
    {
     "data": {
      "text/html": [
       "<div>\n",
       "<style scoped>\n",
       "    .dataframe tbody tr th:only-of-type {\n",
       "        vertical-align: middle;\n",
       "    }\n",
       "\n",
       "    .dataframe tbody tr th {\n",
       "        vertical-align: top;\n",
       "    }\n",
       "\n",
       "    .dataframe thead th {\n",
       "        text-align: right;\n",
       "    }\n",
       "</style>\n",
       "<table border=\"1\" class=\"dataframe\">\n",
       "  <thead>\n",
       "    <tr style=\"text-align: right;\">\n",
       "      <th></th>\n",
       "      <th>component_1</th>\n",
       "      <th>component_2</th>\n",
       "      <th>component_3</th>\n",
       "      <th>component_4</th>\n",
       "      <th>component_5</th>\n",
       "      <th>component_6</th>\n",
       "      <th>component_7</th>\n",
       "      <th>component_8</th>\n",
       "      <th>component_9</th>\n",
       "      <th>component_10</th>\n",
       "      <th>...</th>\n",
       "      <th>component_91</th>\n",
       "      <th>component_92</th>\n",
       "      <th>component_93</th>\n",
       "      <th>component_94</th>\n",
       "      <th>component_95</th>\n",
       "      <th>component_96</th>\n",
       "      <th>component_97</th>\n",
       "      <th>component_98</th>\n",
       "      <th>component_99</th>\n",
       "      <th>component_100</th>\n",
       "    </tr>\n",
       "  </thead>\n",
       "  <tbody>\n",
       "    <tr>\n",
       "      <th>12</th>\n",
       "      <td>0.003983</td>\n",
       "      <td>0.005542</td>\n",
       "      <td>-0.006467</td>\n",
       "      <td>-0.001924</td>\n",
       "      <td>-0.005483</td>\n",
       "      <td>-0.012465</td>\n",
       "      <td>-0.003019</td>\n",
       "      <td>-0.008902</td>\n",
       "      <td>-0.005780</td>\n",
       "      <td>-0.000902</td>\n",
       "      <td>...</td>\n",
       "      <td>-0.015131</td>\n",
       "      <td>-0.019883</td>\n",
       "      <td>-0.035503</td>\n",
       "      <td>-0.006753</td>\n",
       "      <td>0.000861</td>\n",
       "      <td>0.008505</td>\n",
       "      <td>-0.022801</td>\n",
       "      <td>0.022758</td>\n",
       "      <td>-0.018737</td>\n",
       "      <td>-0.013195</td>\n",
       "    </tr>\n",
       "    <tr>\n",
       "      <th>13</th>\n",
       "      <td>0.006718</td>\n",
       "      <td>0.007933</td>\n",
       "      <td>-0.014743</td>\n",
       "      <td>0.000964</td>\n",
       "      <td>0.009692</td>\n",
       "      <td>-0.015561</td>\n",
       "      <td>0.007353</td>\n",
       "      <td>-0.016042</td>\n",
       "      <td>-0.007856</td>\n",
       "      <td>-0.012277</td>\n",
       "      <td>...</td>\n",
       "      <td>-0.020594</td>\n",
       "      <td>-0.001662</td>\n",
       "      <td>-0.012559</td>\n",
       "      <td>0.004630</td>\n",
       "      <td>-0.002678</td>\n",
       "      <td>-0.001203</td>\n",
       "      <td>0.034939</td>\n",
       "      <td>-0.019291</td>\n",
       "      <td>-0.021779</td>\n",
       "      <td>-0.009408</td>\n",
       "    </tr>\n",
       "    <tr>\n",
       "      <th>15</th>\n",
       "      <td>0.006876</td>\n",
       "      <td>0.018940</td>\n",
       "      <td>0.004958</td>\n",
       "      <td>-0.001236</td>\n",
       "      <td>-0.002661</td>\n",
       "      <td>-0.010319</td>\n",
       "      <td>0.002397</td>\n",
       "      <td>-0.002006</td>\n",
       "      <td>-0.004766</td>\n",
       "      <td>0.017611</td>\n",
       "      <td>...</td>\n",
       "      <td>-0.003330</td>\n",
       "      <td>-0.030404</td>\n",
       "      <td>-0.036797</td>\n",
       "      <td>0.035783</td>\n",
       "      <td>0.004531</td>\n",
       "      <td>-0.016749</td>\n",
       "      <td>-0.038260</td>\n",
       "      <td>0.041411</td>\n",
       "      <td>0.002083</td>\n",
       "      <td>0.024454</td>\n",
       "    </tr>\n",
       "    <tr>\n",
       "      <th>18</th>\n",
       "      <td>0.007043</td>\n",
       "      <td>0.003536</td>\n",
       "      <td>-0.005557</td>\n",
       "      <td>0.004425</td>\n",
       "      <td>-0.002311</td>\n",
       "      <td>-0.009057</td>\n",
       "      <td>-0.002168</td>\n",
       "      <td>0.005133</td>\n",
       "      <td>-0.001145</td>\n",
       "      <td>-0.001496</td>\n",
       "      <td>...</td>\n",
       "      <td>-0.009908</td>\n",
       "      <td>0.008793</td>\n",
       "      <td>-0.007724</td>\n",
       "      <td>0.026158</td>\n",
       "      <td>-0.009650</td>\n",
       "      <td>-0.009395</td>\n",
       "      <td>0.001891</td>\n",
       "      <td>0.014803</td>\n",
       "      <td>-0.007107</td>\n",
       "      <td>-0.008969</td>\n",
       "    </tr>\n",
       "    <tr>\n",
       "      <th>200</th>\n",
       "      <td>0.005243</td>\n",
       "      <td>0.001870</td>\n",
       "      <td>-0.004289</td>\n",
       "      <td>-0.000200</td>\n",
       "      <td>-0.003835</td>\n",
       "      <td>-0.004975</td>\n",
       "      <td>-0.005636</td>\n",
       "      <td>-0.007253</td>\n",
       "      <td>0.004634</td>\n",
       "      <td>0.011727</td>\n",
       "      <td>...</td>\n",
       "      <td>-0.018171</td>\n",
       "      <td>-0.018840</td>\n",
       "      <td>0.001201</td>\n",
       "      <td>0.009986</td>\n",
       "      <td>-0.023150</td>\n",
       "      <td>0.008273</td>\n",
       "      <td>-0.009317</td>\n",
       "      <td>-0.009485</td>\n",
       "      <td>0.007634</td>\n",
       "      <td>0.003619</td>\n",
       "    </tr>\n",
       "  </tbody>\n",
       "</table>\n",
       "<p>5 rows × 100 columns</p>\n",
       "</div>"
      ],
      "text/plain": [
       "     component_1  component_2  component_3  component_4  component_5  \\\n",
       "12      0.003983     0.005542    -0.006467    -0.001924    -0.005483   \n",
       "13      0.006718     0.007933    -0.014743     0.000964     0.009692   \n",
       "15      0.006876     0.018940     0.004958    -0.001236    -0.002661   \n",
       "18      0.007043     0.003536    -0.005557     0.004425    -0.002311   \n",
       "200     0.005243     0.001870    -0.004289    -0.000200    -0.003835   \n",
       "\n",
       "     component_6  component_7  component_8  component_9  component_10  \\\n",
       "12     -0.012465    -0.003019    -0.008902    -0.005780     -0.000902   \n",
       "13     -0.015561     0.007353    -0.016042    -0.007856     -0.012277   \n",
       "15     -0.010319     0.002397    -0.002006    -0.004766      0.017611   \n",
       "18     -0.009057    -0.002168     0.005133    -0.001145     -0.001496   \n",
       "200    -0.004975    -0.005636    -0.007253     0.004634      0.011727   \n",
       "\n",
       "         ...        component_91  component_92  component_93  component_94  \\\n",
       "12       ...           -0.015131     -0.019883     -0.035503     -0.006753   \n",
       "13       ...           -0.020594     -0.001662     -0.012559      0.004630   \n",
       "15       ...           -0.003330     -0.030404     -0.036797      0.035783   \n",
       "18       ...           -0.009908      0.008793     -0.007724      0.026158   \n",
       "200      ...           -0.018171     -0.018840      0.001201      0.009986   \n",
       "\n",
       "     component_95  component_96  component_97  component_98  component_99  \\\n",
       "12       0.000861      0.008505     -0.022801      0.022758     -0.018737   \n",
       "13      -0.002678     -0.001203      0.034939     -0.019291     -0.021779   \n",
       "15       0.004531     -0.016749     -0.038260      0.041411      0.002083   \n",
       "18      -0.009650     -0.009395      0.001891      0.014803     -0.007107   \n",
       "200     -0.023150      0.008273     -0.009317     -0.009485      0.007634   \n",
       "\n",
       "     component_100  \n",
       "12       -0.013195  \n",
       "13       -0.009408  \n",
       "15        0.024454  \n",
       "18       -0.008969  \n",
       "200       0.003619  \n",
       "\n",
       "[5 rows x 100 columns]"
      ]
     },
     "execution_count": 84,
     "metadata": {},
     "output_type": "execute_result"
    }
   ],
   "source": [
    "loadings = pd.DataFrame(SVD.components_,\n",
    "                        index=component_names,\n",
    "                        columns=term_df.columns).T\n",
    "loadings.head()"
   ]
  },
  {
   "cell_type": "markdown",
   "metadata": {},
   "source": [
    "### Examining the first components"
   ]
  },
  {
   "cell_type": "code",
   "execution_count": 85,
   "metadata": {},
   "outputs": [],
   "source": [
    "loadings['abs_component_1'] = np.abs(loadings.component_1)\n",
    "loadings['abs_component_2'] = np.abs(loadings.component_2)"
   ]
  },
  {
   "cell_type": "code",
   "execution_count": 86,
   "metadata": {},
   "outputs": [
    {
     "data": {
      "text/html": [
       "<div>\n",
       "<style scoped>\n",
       "    .dataframe tbody tr th:only-of-type {\n",
       "        vertical-align: middle;\n",
       "    }\n",
       "\n",
       "    .dataframe tbody tr th {\n",
       "        vertical-align: top;\n",
       "    }\n",
       "\n",
       "    .dataframe thead th {\n",
       "        text-align: right;\n",
       "    }\n",
       "</style>\n",
       "<table border=\"1\" class=\"dataframe\">\n",
       "  <thead>\n",
       "    <tr style=\"text-align: right;\">\n",
       "      <th></th>\n",
       "      <th>component_1</th>\n",
       "    </tr>\n",
       "  </thead>\n",
       "  <tbody>\n",
       "    <tr>\n",
       "      <th>trump</th>\n",
       "      <td>0.813781</td>\n",
       "    </tr>\n",
       "    <tr>\n",
       "      <th>democrats</th>\n",
       "      <td>0.216316</td>\n",
       "    </tr>\n",
       "    <tr>\n",
       "      <th>president</th>\n",
       "      <td>0.194949</td>\n",
       "    </tr>\n",
       "    <tr>\n",
       "      <th>obama</th>\n",
       "      <td>0.139298</td>\n",
       "    </tr>\n",
       "    <tr>\n",
       "      <th>donald</th>\n",
       "      <td>0.136240</td>\n",
       "    </tr>\n",
       "    <tr>\n",
       "      <th>like</th>\n",
       "      <td>0.098331</td>\n",
       "    </tr>\n",
       "    <tr>\n",
       "      <th>supporters</th>\n",
       "      <td>0.076813</td>\n",
       "    </tr>\n",
       "    <tr>\n",
       "      <th>party</th>\n",
       "      <td>0.075294</td>\n",
       "    </tr>\n",
       "    <tr>\n",
       "      <th>cnn</th>\n",
       "      <td>0.072661</td>\n",
       "    </tr>\n",
       "    <tr>\n",
       "      <th>new</th>\n",
       "      <td>0.071953</td>\n",
       "    </tr>\n",
       "    <tr>\n",
       "      <th>republicans</th>\n",
       "      <td>0.071626</td>\n",
       "    </tr>\n",
       "    <tr>\n",
       "      <th>just</th>\n",
       "      <td>0.070272</td>\n",
       "    </tr>\n",
       "    <tr>\n",
       "      <th>clinton</th>\n",
       "      <td>0.069587</td>\n",
       "    </tr>\n",
       "    <tr>\n",
       "      <th>hillary</th>\n",
       "      <td>0.064268</td>\n",
       "    </tr>\n",
       "    <tr>\n",
       "      <th>media</th>\n",
       "      <td>0.063869</td>\n",
       "    </tr>\n",
       "    <tr>\n",
       "      <th>gop</th>\n",
       "      <td>0.061216</td>\n",
       "    </tr>\n",
       "    <tr>\n",
       "      <th>says</th>\n",
       "      <td>0.061107</td>\n",
       "    </tr>\n",
       "    <tr>\n",
       "      <th>people</th>\n",
       "      <td>0.058218</td>\n",
       "    </tr>\n",
       "    <tr>\n",
       "      <th>state</th>\n",
       "      <td>0.055691</td>\n",
       "    </tr>\n",
       "    <tr>\n",
       "      <th>mueller</th>\n",
       "      <td>0.053898</td>\n",
       "    </tr>\n",
       "  </tbody>\n",
       "</table>\n",
       "</div>"
      ],
      "text/plain": [
       "             component_1\n",
       "trump           0.813781\n",
       "democrats       0.216316\n",
       "president       0.194949\n",
       "obama           0.139298\n",
       "donald          0.136240\n",
       "like            0.098331\n",
       "supporters      0.076813\n",
       "party           0.075294\n",
       "cnn             0.072661\n",
       "new             0.071953\n",
       "republicans     0.071626\n",
       "just            0.070272\n",
       "clinton         0.069587\n",
       "hillary         0.064268\n",
       "media           0.063869\n",
       "gop             0.061216\n",
       "says            0.061107\n",
       "people          0.058218\n",
       "state           0.055691\n",
       "mueller         0.053898"
      ]
     },
     "execution_count": 86,
     "metadata": {},
     "output_type": "execute_result"
    }
   ],
   "source": [
    "loadings.sort_values('abs_component_1',ascending=False).head(20)[['component_1']]"
   ]
  },
  {
   "cell_type": "markdown",
   "metadata": {},
   "source": [
    "### Train test split our SVD data frame"
   ]
  },
  {
   "cell_type": "code",
   "execution_count": 87,
   "metadata": {},
   "outputs": [],
   "source": [
    "y = reddit['subreddit']"
   ]
  },
  {
   "cell_type": "code",
   "execution_count": 88,
   "metadata": {
    "scrolled": true
   },
   "outputs": [],
   "source": [
    "X_train_svd, X_test_svd, y_train_svd, y_test_svd = train_test_split(svd_df, y, stratify=y)"
   ]
  },
  {
   "cell_type": "markdown",
   "metadata": {},
   "source": [
    "### Creating a pipeline and running a grid search to fine tune my model's hyperparemeters"
   ]
  },
  {
   "cell_type": "code",
   "execution_count": 89,
   "metadata": {},
   "outputs": [],
   "source": [
    "pipe = Pipeline([\n",
    "    ('knn', KNeighborsClassifier())\n",
    "])"
   ]
  },
  {
   "cell_type": "code",
   "execution_count": 90,
   "metadata": {},
   "outputs": [],
   "source": [
    "params = {\n",
    "    'knn__n_neighbors': [5, 10, 20, 25, 30,40,50],\n",
    "    'knn__weights': ['uniform', 'distance'],\n",
    "    'knn__metric': ['minkowski', 'euclidean', 'manhattan']\n",
    "}"
   ]
  },
  {
   "cell_type": "code",
   "execution_count": 91,
   "metadata": {},
   "outputs": [],
   "source": [
    "gs = GridSearchCV(pipe, params)"
   ]
  },
  {
   "cell_type": "code",
   "execution_count": 92,
   "metadata": {},
   "outputs": [
    {
     "data": {
      "text/plain": [
       "GridSearchCV(cv=None, error_score='raise',\n",
       "       estimator=Pipeline(memory=None,\n",
       "     steps=[('knn', KNeighborsClassifier(algorithm='auto', leaf_size=30, metric='minkowski',\n",
       "           metric_params=None, n_jobs=1, n_neighbors=5, p=2,\n",
       "           weights='uniform'))]),\n",
       "       fit_params={}, iid=True, n_jobs=1,\n",
       "       param_grid={'knn__n_neighbors': [5, 10, 20, 25, 30, 40, 50], 'knn__weights': ['uniform', 'distance'], 'knn__metric': ['minkowski', 'euclidean', 'manhattan']},\n",
       "       pre_dispatch='2*n_jobs', refit=True, scoring=None, verbose=0)"
      ]
     },
     "execution_count": 92,
     "metadata": {},
     "output_type": "execute_result"
    }
   ],
   "source": [
    "gs.fit(X_train_svd,y_train_svd)"
   ]
  },
  {
   "cell_type": "markdown",
   "metadata": {},
   "source": [
    "### Scoring my model"
   ]
  },
  {
   "cell_type": "code",
   "execution_count": 93,
   "metadata": {},
   "outputs": [
    {
     "data": {
      "text/plain": [
       "0.7511737089201878"
      ]
     },
     "execution_count": 93,
     "metadata": {},
     "output_type": "execute_result"
    }
   ],
   "source": [
    "gs.score(X_train_svd, y_train_svd)"
   ]
  },
  {
   "cell_type": "code",
   "execution_count": 94,
   "metadata": {},
   "outputs": [
    {
     "data": {
      "text/plain": [
       "0.6112676056338028"
      ]
     },
     "execution_count": 94,
     "metadata": {},
     "output_type": "execute_result"
    }
   ],
   "source": [
    "gs.score(X_test_svd, y_test_svd)"
   ]
  },
  {
   "cell_type": "markdown",
   "metadata": {},
   "source": [
    "### Looking at the best parameters from my grid search"
   ]
  },
  {
   "cell_type": "code",
   "execution_count": 95,
   "metadata": {},
   "outputs": [
    {
     "data": {
      "text/plain": [
       "{'knn__metric': 'minkowski', 'knn__n_neighbors': 5, 'knn__weights': 'uniform'}"
      ]
     },
     "execution_count": 95,
     "metadata": {},
     "output_type": "execute_result"
    }
   ],
   "source": [
    "gs.best_params_"
   ]
  },
  {
   "cell_type": "markdown",
   "metadata": {},
   "source": [
    "# Random Forest with Sentiment Analysis"
   ]
  },
  {
   "cell_type": "markdown",
   "metadata": {},
   "source": [
    "Let's see if including features for sentiment help our model's accuracey in predicing the subreddits"
   ]
  },
  {
   "cell_type": "markdown",
   "metadata": {},
   "source": [
    "### Instantiating my sentiment analyzer"
   ]
  },
  {
   "cell_type": "code",
   "execution_count": 96,
   "metadata": {},
   "outputs": [],
   "source": [
    "sid = SentimentIntensityAnalyzer()"
   ]
  },
  {
   "cell_type": "markdown",
   "metadata": {},
   "source": [
    "### Adding columns for sentiment to my data frame"
   ]
  },
  {
   "cell_type": "code",
   "execution_count": 97,
   "metadata": {},
   "outputs": [],
   "source": [
    "reddit['positive'] = reddit['text_title'].map(lambda x: sid.polarity_scores(x)['pos'])"
   ]
  },
  {
   "cell_type": "code",
   "execution_count": 98,
   "metadata": {},
   "outputs": [],
   "source": [
    "reddit['negative'] = reddit['text_title'].map(lambda x: sid.polarity_scores(x)['neg'])"
   ]
  },
  {
   "cell_type": "code",
   "execution_count": 99,
   "metadata": {},
   "outputs": [],
   "source": [
    "reddit['neutral'] = reddit['text_title'].map(lambda x: sid.polarity_scores(x)['neu'])"
   ]
  },
  {
   "cell_type": "code",
   "execution_count": 100,
   "metadata": {},
   "outputs": [
    {
     "data": {
      "text/html": [
       "<div>\n",
       "<style scoped>\n",
       "    .dataframe tbody tr th:only-of-type {\n",
       "        vertical-align: middle;\n",
       "    }\n",
       "\n",
       "    .dataframe tbody tr th {\n",
       "        vertical-align: top;\n",
       "    }\n",
       "\n",
       "    .dataframe thead th {\n",
       "        text-align: right;\n",
       "    }\n",
       "</style>\n",
       "<table border=\"1\" class=\"dataframe\">\n",
       "  <thead>\n",
       "    <tr style=\"text-align: right;\">\n",
       "      <th></th>\n",
       "      <th>name</th>\n",
       "      <th>text</th>\n",
       "      <th>title</th>\n",
       "      <th>subreddit</th>\n",
       "      <th>text_title</th>\n",
       "      <th>positive</th>\n",
       "      <th>negative</th>\n",
       "      <th>neutral</th>\n",
       "    </tr>\n",
       "  </thead>\n",
       "  <tbody>\n",
       "    <tr>\n",
       "      <th>0</th>\n",
       "      <td>t3_9abkdq</td>\n",
       "      <td></td>\n",
       "      <td>John McCain, War Hero, Senator, Presidential C...</td>\n",
       "      <td>1</td>\n",
       "      <td>John McCain, War Hero, Senator, Presidential C...</td>\n",
       "      <td>0.319</td>\n",
       "      <td>0.244</td>\n",
       "      <td>0.438</td>\n",
       "    </tr>\n",
       "    <tr>\n",
       "      <th>1</th>\n",
       "      <td>t3_9b99kz</td>\n",
       "      <td></td>\n",
       "      <td>Martha McSally wins GOP nomination for Arizona...</td>\n",
       "      <td>1</td>\n",
       "      <td>Martha McSally wins GOP nomination for Arizona...</td>\n",
       "      <td>0.291</td>\n",
       "      <td>0.000</td>\n",
       "      <td>0.709</td>\n",
       "    </tr>\n",
       "    <tr>\n",
       "      <th>2</th>\n",
       "      <td>t3_9bcm5x</td>\n",
       "      <td></td>\n",
       "      <td>WV State Police seize $10K from couple without...</td>\n",
       "      <td>1</td>\n",
       "      <td>WV State Police seize $10K from couple without...</td>\n",
       "      <td>0.000</td>\n",
       "      <td>0.241</td>\n",
       "      <td>0.759</td>\n",
       "    </tr>\n",
       "    <tr>\n",
       "      <th>3</th>\n",
       "      <td>t3_9b0480</td>\n",
       "      <td></td>\n",
       "      <td>Student Who Snatched Classmate’s MAGA Hat Faci...</td>\n",
       "      <td>1</td>\n",
       "      <td>Student Who Snatched Classmate’s MAGA Hat Faci...</td>\n",
       "      <td>0.000</td>\n",
       "      <td>0.123</td>\n",
       "      <td>0.877</td>\n",
       "    </tr>\n",
       "    <tr>\n",
       "      <th>4</th>\n",
       "      <td>t3_9baibi</td>\n",
       "      <td></td>\n",
       "      <td>Socialism vs. Trump after Massive Turnout in F...</td>\n",
       "      <td>1</td>\n",
       "      <td>Socialism vs. Trump after Massive Turnout in F...</td>\n",
       "      <td>0.000</td>\n",
       "      <td>0.000</td>\n",
       "      <td>1.000</td>\n",
       "    </tr>\n",
       "  </tbody>\n",
       "</table>\n",
       "</div>"
      ],
      "text/plain": [
       "        name text                                              title  \\\n",
       "0  t3_9abkdq       John McCain, War Hero, Senator, Presidential C...   \n",
       "1  t3_9b99kz       Martha McSally wins GOP nomination for Arizona...   \n",
       "2  t3_9bcm5x       WV State Police seize $10K from couple without...   \n",
       "3  t3_9b0480       Student Who Snatched Classmate’s MAGA Hat Faci...   \n",
       "4  t3_9baibi       Socialism vs. Trump after Massive Turnout in F...   \n",
       "\n",
       "   subreddit                                         text_title  positive  \\\n",
       "0          1  John McCain, War Hero, Senator, Presidential C...     0.319   \n",
       "1          1  Martha McSally wins GOP nomination for Arizona...     0.291   \n",
       "2          1  WV State Police seize $10K from couple without...     0.000   \n",
       "3          1  Student Who Snatched Classmate’s MAGA Hat Faci...     0.000   \n",
       "4          1  Socialism vs. Trump after Massive Turnout in F...     0.000   \n",
       "\n",
       "   negative  neutral  \n",
       "0     0.244    0.438  \n",
       "1     0.000    0.709  \n",
       "2     0.241    0.759  \n",
       "3     0.123    0.877  \n",
       "4     0.000    1.000  "
      ]
     },
     "execution_count": 100,
     "metadata": {},
     "output_type": "execute_result"
    }
   ],
   "source": [
    "reddit.head()"
   ]
  },
  {
   "cell_type": "markdown",
   "metadata": {},
   "source": [
    "### Adding sentiment columns to my SVD data frame"
   ]
  },
  {
   "cell_type": "code",
   "execution_count": 101,
   "metadata": {},
   "outputs": [],
   "source": [
    "svd_df['positive'] = reddit['positive']"
   ]
  },
  {
   "cell_type": "code",
   "execution_count": 102,
   "metadata": {},
   "outputs": [],
   "source": [
    "svd_df['negative'] = reddit['negative']"
   ]
  },
  {
   "cell_type": "code",
   "execution_count": 103,
   "metadata": {},
   "outputs": [],
   "source": [
    "svd_df['neutral'] = reddit['neutral']"
   ]
  },
  {
   "cell_type": "code",
   "execution_count": 104,
   "metadata": {},
   "outputs": [],
   "source": [
    "y = reddit['subreddit']"
   ]
  },
  {
   "cell_type": "markdown",
   "metadata": {},
   "source": [
    "### Train, test split my new SVD data frame"
   ]
  },
  {
   "cell_type": "code",
   "execution_count": 105,
   "metadata": {},
   "outputs": [],
   "source": [
    "X_train_sen, X_test_sen, y_train_sen, y_test_sen = train_test_split(svd_df, y, stratify=y)"
   ]
  },
  {
   "cell_type": "markdown",
   "metadata": {},
   "source": [
    "### Setting parameters for my grid search"
   ]
  },
  {
   "cell_type": "markdown",
   "metadata": {},
   "source": [
    "After extensive hyperparamter tuning, these are the best ranges for paremeters I've found"
   ]
  },
  {
   "cell_type": "code",
   "execution_count": 106,
   "metadata": {},
   "outputs": [],
   "source": [
    "params = {\n",
    "    'n_estimators': [70,80,90,100,110],\n",
    "    'max_features': ['auto', 'log2', 'sqrt'],\n",
    "    'min_samples_split': [4,5,6,7],\n",
    "    'min_samples_leaf': [1,2,3,4,5]\n",
    "    \n",
    "}"
   ]
  },
  {
   "cell_type": "markdown",
   "metadata": {},
   "source": [
    "### Running a gridsearch to find the best hyperparameters for my model"
   ]
  },
  {
   "cell_type": "code",
   "execution_count": 107,
   "metadata": {},
   "outputs": [],
   "source": [
    "gs = GridSearchCV(estimator = RandomForestClassifier(), param_grid = params)"
   ]
  },
  {
   "cell_type": "code",
   "execution_count": 108,
   "metadata": {},
   "outputs": [
    {
     "data": {
      "text/plain": [
       "GridSearchCV(cv=None, error_score='raise',\n",
       "       estimator=RandomForestClassifier(bootstrap=True, class_weight=None, criterion='gini',\n",
       "            max_depth=None, max_features='auto', max_leaf_nodes=None,\n",
       "            min_impurity_decrease=0.0, min_impurity_split=None,\n",
       "            min_samples_leaf=1, min_samples_split=2,\n",
       "            min_weight_fraction_leaf=0.0, n_estimators=10, n_jobs=1,\n",
       "            oob_score=False, random_state=None, verbose=0,\n",
       "            warm_start=False),\n",
       "       fit_params={}, iid=True, n_jobs=1,\n",
       "       param_grid={'n_estimators': [70, 80, 90, 100, 110], 'max_features': ['auto', 'log2', 'sqrt'], 'min_samples_split': [4, 5, 6, 7], 'min_samples_leaf': [1, 2, 3, 4, 5]},\n",
       "       pre_dispatch='2*n_jobs', refit=True, scoring=None, verbose=0)"
      ]
     },
     "execution_count": 108,
     "metadata": {},
     "output_type": "execute_result"
    }
   ],
   "source": [
    "gs.fit(X_train_sen, y_train_sen)"
   ]
  },
  {
   "cell_type": "markdown",
   "metadata": {},
   "source": [
    "### Scoring my model"
   ]
  },
  {
   "cell_type": "code",
   "execution_count": 109,
   "metadata": {},
   "outputs": [
    {
     "data": {
      "text/plain": [
       "0.9755868544600939"
      ]
     },
     "execution_count": 109,
     "metadata": {},
     "output_type": "execute_result"
    }
   ],
   "source": [
    "gs.score(X_train_sen, y_train_sen)"
   ]
  },
  {
   "cell_type": "code",
   "execution_count": 110,
   "metadata": {},
   "outputs": [
    {
     "data": {
      "text/plain": [
       "0.6"
      ]
     },
     "execution_count": 110,
     "metadata": {},
     "output_type": "execute_result"
    }
   ],
   "source": [
    "gs.score(X_test_sen, y_test_sen)"
   ]
  },
  {
   "cell_type": "markdown",
   "metadata": {},
   "source": [
    "### Looking at the best parameters from my grid search"
   ]
  },
  {
   "cell_type": "code",
   "execution_count": 111,
   "metadata": {},
   "outputs": [
    {
     "data": {
      "text/plain": [
       "{'max_features': 'sqrt',\n",
       " 'min_samples_leaf': 1,\n",
       " 'min_samples_split': 6,\n",
       " 'n_estimators': 100}"
      ]
     },
     "execution_count": 111,
     "metadata": {},
     "output_type": "execute_result"
    }
   ],
   "source": [
    "gs.best_params_"
   ]
  },
  {
   "cell_type": "markdown",
   "metadata": {},
   "source": [
    "### Ranking components by their importance"
   ]
  },
  {
   "cell_type": "code",
   "execution_count": 112,
   "metadata": {
    "scrolled": true
   },
   "outputs": [
    {
     "data": {
      "text/html": [
       "<div>\n",
       "<style scoped>\n",
       "    .dataframe tbody tr th:only-of-type {\n",
       "        vertical-align: middle;\n",
       "    }\n",
       "\n",
       "    .dataframe tbody tr th {\n",
       "        vertical-align: top;\n",
       "    }\n",
       "\n",
       "    .dataframe thead th {\n",
       "        text-align: right;\n",
       "    }\n",
       "</style>\n",
       "<table border=\"1\" class=\"dataframe\">\n",
       "  <thead>\n",
       "    <tr style=\"text-align: right;\">\n",
       "      <th></th>\n",
       "      <th>0</th>\n",
       "    </tr>\n",
       "  </thead>\n",
       "  <tbody>\n",
       "    <tr>\n",
       "      <th>component_3</th>\n",
       "      <td>0.037310</td>\n",
       "    </tr>\n",
       "    <tr>\n",
       "      <th>component_6</th>\n",
       "      <td>0.026992</td>\n",
       "    </tr>\n",
       "    <tr>\n",
       "      <th>component_4</th>\n",
       "      <td>0.025783</td>\n",
       "    </tr>\n",
       "    <tr>\n",
       "      <th>component_5</th>\n",
       "      <td>0.023880</td>\n",
       "    </tr>\n",
       "    <tr>\n",
       "      <th>component_75</th>\n",
       "      <td>0.016018</td>\n",
       "    </tr>\n",
       "  </tbody>\n",
       "</table>\n",
       "</div>"
      ],
      "text/plain": [
       "                     0\n",
       "component_3   0.037310\n",
       "component_6   0.026992\n",
       "component_4   0.025783\n",
       "component_5   0.023880\n",
       "component_75  0.016018"
      ]
     },
     "execution_count": 112,
     "metadata": {},
     "output_type": "execute_result"
    }
   ],
   "source": [
    "pd.DataFrame(gs.best_estimator_.feature_importances_, svd_df.columns).sort_values(0, ascending=False).head()"
   ]
  },
  {
   "cell_type": "markdown",
   "metadata": {},
   "source": [
    "### Examining my most important component"
   ]
  },
  {
   "cell_type": "code",
   "execution_count": 113,
   "metadata": {},
   "outputs": [],
   "source": [
    "loadings['abs_component_3'] = np.abs(loadings.component_3)"
   ]
  },
  {
   "cell_type": "code",
   "execution_count": 114,
   "metadata": {},
   "outputs": [
    {
     "data": {
      "text/html": [
       "<div>\n",
       "<style scoped>\n",
       "    .dataframe tbody tr th:only-of-type {\n",
       "        vertical-align: middle;\n",
       "    }\n",
       "\n",
       "    .dataframe tbody tr th {\n",
       "        vertical-align: top;\n",
       "    }\n",
       "\n",
       "    .dataframe thead th {\n",
       "        text-align: right;\n",
       "    }\n",
       "</style>\n",
       "<table border=\"1\" class=\"dataframe\">\n",
       "  <thead>\n",
       "    <tr style=\"text-align: right;\">\n",
       "      <th></th>\n",
       "      <th>component_3</th>\n",
       "    </tr>\n",
       "  </thead>\n",
       "  <tbody>\n",
       "    <tr>\n",
       "      <th>democrats</th>\n",
       "      <td>0.647597</td>\n",
       "    </tr>\n",
       "    <tr>\n",
       "      <th>obama</th>\n",
       "      <td>-0.276183</td>\n",
       "    </tr>\n",
       "    <tr>\n",
       "      <th>clinton</th>\n",
       "      <td>-0.245928</td>\n",
       "    </tr>\n",
       "    <tr>\n",
       "      <th>hillary</th>\n",
       "      <td>-0.242241</td>\n",
       "    </tr>\n",
       "    <tr>\n",
       "      <th>party</th>\n",
       "      <td>-0.226923</td>\n",
       "    </tr>\n",
       "    <tr>\n",
       "      <th>democratic</th>\n",
       "      <td>-0.192489</td>\n",
       "    </tr>\n",
       "    <tr>\n",
       "      <th>new</th>\n",
       "      <td>-0.176672</td>\n",
       "    </tr>\n",
       "    <tr>\n",
       "      <th>president</th>\n",
       "      <td>-0.174064</td>\n",
       "    </tr>\n",
       "    <tr>\n",
       "      <th>democrat</th>\n",
       "      <td>-0.155903</td>\n",
       "    </tr>\n",
       "    <tr>\n",
       "      <th>trump</th>\n",
       "      <td>0.149611</td>\n",
       "    </tr>\n",
       "    <tr>\n",
       "      <th>republican</th>\n",
       "      <td>-0.147474</td>\n",
       "    </tr>\n",
       "    <tr>\n",
       "      <th>just</th>\n",
       "      <td>-0.102620</td>\n",
       "    </tr>\n",
       "    <tr>\n",
       "      <th>people</th>\n",
       "      <td>-0.096508</td>\n",
       "    </tr>\n",
       "    <tr>\n",
       "      <th>senate</th>\n",
       "      <td>-0.085153</td>\n",
       "    </tr>\n",
       "    <tr>\n",
       "      <th>video</th>\n",
       "      <td>-0.078129</td>\n",
       "    </tr>\n",
       "    <tr>\n",
       "      <th>white</th>\n",
       "      <td>-0.062423</td>\n",
       "    </tr>\n",
       "    <tr>\n",
       "      <th>state</th>\n",
       "      <td>-0.054233</td>\n",
       "    </tr>\n",
       "    <tr>\n",
       "      <th>candidate</th>\n",
       "      <td>-0.049074</td>\n",
       "    </tr>\n",
       "    <tr>\n",
       "      <th>election</th>\n",
       "      <td>-0.046809</td>\n",
       "    </tr>\n",
       "    <tr>\n",
       "      <th>don</th>\n",
       "      <td>-0.044837</td>\n",
       "    </tr>\n",
       "  </tbody>\n",
       "</table>\n",
       "</div>"
      ],
      "text/plain": [
       "            component_3\n",
       "democrats      0.647597\n",
       "obama         -0.276183\n",
       "clinton       -0.245928\n",
       "hillary       -0.242241\n",
       "party         -0.226923\n",
       "democratic    -0.192489\n",
       "new           -0.176672\n",
       "president     -0.174064\n",
       "democrat      -0.155903\n",
       "trump          0.149611\n",
       "republican    -0.147474\n",
       "just          -0.102620\n",
       "people        -0.096508\n",
       "senate        -0.085153\n",
       "video         -0.078129\n",
       "white         -0.062423\n",
       "state         -0.054233\n",
       "candidate     -0.049074\n",
       "election      -0.046809\n",
       "don           -0.044837"
      ]
     },
     "execution_count": 114,
     "metadata": {},
     "output_type": "execute_result"
    }
   ],
   "source": [
    "loadings.sort_values('abs_component_3',ascending=False).head(20)[['component_3']]"
   ]
  },
  {
   "cell_type": "markdown",
   "metadata": {},
   "source": [
    "# Conclusion"
   ]
  },
  {
   "cell_type": "markdown",
   "metadata": {},
   "source": [
    "To reiterate, here are the three scores for my models: \n",
    "\n",
    "Logistic Regression: $65.9\\%$\n",
    "\n",
    "K-nearest neighbors: $61.1\\%$\n",
    "\n",
    "Random forest: $60.0\\%$\n"
   ]
  },
  {
   "cell_type": "markdown",
   "metadata": {},
   "source": [
    "None of my models achieved an accuracy above $65%$, implying that democrats and republicans discuss similar topics and with similar sentiments. My best model turned out to be a simple logistic regression model on a TFIDF matrix, although this model performed only marginally better than my other two models. "
   ]
  },
  {
   "cell_type": "code",
   "execution_count": null,
   "metadata": {},
   "outputs": [],
   "source": []
  }
 ],
 "metadata": {
  "kernelspec": {
   "display_name": "Python 3",
   "language": "python",
   "name": "python3"
  },
  "language_info": {
   "codemirror_mode": {
    "name": "ipython",
    "version": 3
   },
   "file_extension": ".py",
   "mimetype": "text/x-python",
   "name": "python",
   "nbconvert_exporter": "python",
   "pygments_lexer": "ipython3",
   "version": "3.6.5"
  }
 },
 "nbformat": 4,
 "nbformat_minor": 2
}
